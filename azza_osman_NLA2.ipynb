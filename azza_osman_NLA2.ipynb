{
  "cells": [
    {
      "cell_type": "markdown",
      "id": "8f8d13aa-8902-4d59-943f-a68a41380a23",
      "metadata": {
        "id": "8f8d13aa-8902-4d59-943f-a68a41380a23"
      },
      "source": [
        "# Exercise 2:\n",
        "### Plot the trajectory of $x(n)$ on the $x_1, x_2$ plane, and as functions of $n$ (both plots for $x_1(n)$and $x_2(n)$ on the same plot)."
      ]
    },
    {
      "cell_type": "code",
      "execution_count": null,
      "id": "6f8cf539-a6cf-478f-9f7f-7e879f1134d6",
      "metadata": {
        "id": "6f8cf539-a6cf-478f-9f7f-7e879f1134d6",
        "outputId": "64b59e6f-86e2-4699-eee2-b9c709975cae",
        "colab": {
          "base_uri": "https://localhost:8080/",
          "height": 106
        }
      },
      "outputs": [
        {
          "output_type": "error",
          "ename": "SyntaxError",
          "evalue": "invalid syntax (<ipython-input-1-32daec5badc6>, line 1)",
          "traceback": [
            "\u001b[0;36m  File \u001b[0;32m\"<ipython-input-1-32daec5badc6>\"\u001b[0;36m, line \u001b[0;32m1\u001b[0m\n\u001b[0;31m    using Plots\u001b[0m\n\u001b[0m          ^\u001b[0m\n\u001b[0;31mSyntaxError\u001b[0m\u001b[0;31m:\u001b[0m invalid syntax\n"
          ]
        }
      ],
      "source": [
        "using Plots\n",
        "x1(n)=-2(7/10)^n+4\n",
        "x2(n)=-(7/10)^n+4\n",
        "plot(x1, 0, 25, xlab=\"n (time)\", ylab=\"Population\", label=\"Owls\")\n",
        "plot!(x2, label=\"Mices\")"
      ]
    },
    {
      "cell_type": "markdown",
      "id": "412b9699-714f-4848-a26c-5fe3b1da7ca5",
      "metadata": {
        "id": "412b9699-714f-4848-a26c-5fe3b1da7ca5"
      },
      "source": [
        "# Exercise 3\n",
        "### Check if $A$ is symmetric and positive definite. *You may use **julia** to check you answers*"
      ]
    },
    {
      "cell_type": "code",
      "execution_count": null,
      "id": "b3de0027-f045-43f8-b0c6-2ae3549b3273",
      "metadata": {
        "id": "b3de0027-f045-43f8-b0c6-2ae3549b3273",
        "outputId": "1400e79c-948b-4685-e9f0-b4c9936b3f1a"
      },
      "outputs": [
        {
          "name": "stdout",
          "output_type": "stream",
          "text": [
            "Is symmetric: true"
          ]
        }
      ],
      "source": [
        "using LinearAlgebra\n",
        "A=[1.2 -0.1 -0.5 0;-0.1 0.6 0 -0.1;-0.5 0 1.3 -0.5;0 -0.1 -0.5 0.8]\n",
        "b=[0; 0; 0; 9]\n",
        "print(\"Is symmetric: \", A'==A)"
      ]
    },
    {
      "cell_type": "code",
      "execution_count": null,
      "id": "984f865c-b52f-409a-80e4-33fa9c994141",
      "metadata": {
        "id": "984f865c-b52f-409a-80e4-33fa9c994141",
        "outputId": "a6c5f5eb-5575-4e53-aab4-ff4350621cb2"
      },
      "outputs": [
        {
          "data": {
            "text/plain": [
              "4-element Vector{Float64}:\n",
              " 0.3408476765330736\n",
              " 0.6394261148078886\n",
              " 1.0225093925935527\n",
              " 1.8972168160654863"
            ]
          },
          "execution_count": 7,
          "metadata": {},
          "output_type": "execute_result"
        }
      ],
      "source": [
        "eigen(A).values"
      ]
    },
    {
      "cell_type": "markdown",
      "id": "67082c94-fe3d-49a4-a9bd-d52d1da6f9ae",
      "metadata": {
        "id": "67082c94-fe3d-49a4-a9bd-d52d1da6f9ae"
      },
      "source": [
        "It is also positive definite"
      ]
    },
    {
      "cell_type": "markdown",
      "id": "2e2aa9e9-f0df-4045-8198-c16dbaa60f05",
      "metadata": {
        "id": "2e2aa9e9-f0df-4045-8198-c16dbaa60f05"
      },
      "source": [
        "### Write a julia program for forward and backward substitution."
      ]
    },
    {
      "cell_type": "markdown",
      "id": "25fdc3c2-334f-4eb2-a4c3-0c1cf992a075",
      "metadata": {
        "id": "25fdc3c2-334f-4eb2-a4c3-0c1cf992a075"
      },
      "source": [
        "#### Forward Substitution"
      ]
    },
    {
      "cell_type": "code",
      "execution_count": null,
      "id": "a5688548-8a6b-47e7-93a2-a4a732967832",
      "metadata": {
        "id": "a5688548-8a6b-47e7-93a2-a4a732967832",
        "outputId": "55bdc71f-8077-447e-c7f6-e3a19e895414"
      },
      "outputs": [
        {
          "data": {
            "text/plain": [
              "foward_sub (generic function with 1 method)"
            ]
          },
          "execution_count": 9,
          "metadata": {},
          "output_type": "execute_result"
        }
      ],
      "source": [
        "function foward_sub(A,b)\n",
        "    n=size(A)[1]\n",
        "    y=zeros(n, 1)\n",
        "    for i=1:n\n",
        "        S=0\n",
        "        for j=1:i-1\n",
        "            S+=A[i,j]*y[j]\n",
        "        end\n",
        "        if A[i,i]==0\n",
        "            return \"error\"\n",
        "        end\n",
        "        y[i]=(b[i]-b)/A[i,i]\n",
        "    end\n",
        "    return y\n",
        "end"
      ]
    },
    {
      "cell_type": "code",
      "execution_count": null,
      "id": "89287598-458d-43fd-a850-5498fd03a2a3",
      "metadata": {
        "id": "89287598-458d-43fd-a850-5498fd03a2a3",
        "outputId": "091c4f91-2683-4cca-c405-5e62d4ecccce"
      },
      "outputs": [
        {
          "data": {
            "text/plain": [
              "backward_sub (generic function with 1 method)"
            ]
          },
          "execution_count": 10,
          "metadata": {},
          "output_type": "execute_result"
        }
      ],
      "source": [
        "function backward_sub(A,b)\n",
        "    n=size(A)[1]\n",
        "    y=zeros(n,1)\n",
        "    y[n]=b[n]/A[n,n]\n",
        "    for i=n-1:-1:1\n",
        "        S=0\n",
        "        for j=i+1:n\n",
        "            S+=A[i, j]*y[j]\n",
        "        end\n",
        "        if A[i,i]==0\n",
        "            return \"error\"\n",
        "        end\n",
        "        y[i]=(b[i]-S)/A[i,i]\n",
        "    end\n",
        "    return y\n",
        "end"
      ]
    },
    {
      "cell_type": "markdown",
      "id": "4acab9ff-ef65-43fc-9cac-29ebd0abcc09",
      "metadata": {
        "id": "4acab9ff-ef65-43fc-9cac-29ebd0abcc09"
      },
      "source": [
        "### Use julia calculate the residual $r = b - A\\hat{x}$, where $\\hat{x}$ denotes your computed solution from the previous question."
      ]
    },
    {
      "cell_type": "code",
      "execution_count": null,
      "id": "687b2231-6351-46cb-9d6e-ef07c63dbeaa",
      "metadata": {
        "id": "687b2231-6351-46cb-9d6e-ef07c63dbeaa",
        "outputId": "6a406b39-af89-440c-d48d-2eb169e8825f"
      },
      "outputs": [
        {
          "data": {
            "text/plain": [
              "4-element Vector{Float64}:\n",
              " -0.004899999999999571\n",
              "  0.0008000000000003005\n",
              " -0.021800000000000708\n",
              " -0.025300000000001432"
            ]
          },
          "execution_count": 12,
          "metadata": {},
          "output_type": "execute_result"
        }
      ],
      "source": [
        "x=[3.497; 3.335; 7.716; 16.521]\n",
        "r=b-A*x"
      ]
    }
  ],
  "metadata": {
    "kernelspec": {
      "display_name": "Julia 1.8.2",
      "language": "julia",
      "name": "julia-1.8"
    },
    "language_info": {
      "file_extension": ".jl",
      "mimetype": "application/julia",
      "name": "julia",
      "version": "1.8.2"
    },
    "colab": {
      "provenance": []
    }
  },
  "nbformat": 4,
  "nbformat_minor": 5
}